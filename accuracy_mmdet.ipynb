{
 "cells": [
  {
   "cell_type": "markdown",
   "id": "d44647dd",
   "metadata": {},
   "source": [
    "### Задача"
   ]
  },
  {
   "cell_type": "markdown",
   "id": "b7d765df",
   "metadata": {},
   "source": [
    "Используя модель для детекции из библиотеки `mmdetection`, оценить `accuracy` на имеющихся данных."
   ]
  },
  {
   "cell_type": "markdown",
   "id": "e08f2b46",
   "metadata": {},
   "source": [
    "### Проверка окружения"
   ]
  },
  {
   "cell_type": "markdown",
   "id": "f094f266",
   "metadata": {},
   "source": [
    "Проверим какая версия `python` используется в ядре."
   ]
  },
  {
   "cell_type": "code",
   "execution_count": 1,
   "id": "fd1aa7ae",
   "metadata": {},
   "outputs": [
    {
     "name": "stdout",
     "output_type": "stream",
     "text": [
      "Python 3.8.10\n"
     ]
    }
   ],
   "source": [
    "import sys\n",
    "!{sys.executable} -V"
   ]
  },
  {
   "cell_type": "markdown",
   "id": "3cf58cf2",
   "metadata": {},
   "source": [
    "Проверим доступна ли `gpu`, верно ли встали драйвера."
   ]
  },
  {
   "cell_type": "code",
   "execution_count": 2,
   "id": "fddbadb0",
   "metadata": {},
   "outputs": [
    {
     "data": {
      "text/plain": [
       "(True, '1.10.2+cu102')"
      ]
     },
     "execution_count": 2,
     "metadata": {},
     "output_type": "execute_result"
    }
   ],
   "source": [
    "import torch\n",
    "torch.cuda.is_available(), torch.__version__"
   ]
  },
  {
   "cell_type": "markdown",
   "id": "4717bb4b",
   "metadata": {},
   "source": [
    "### Структура выхода модели"
   ]
  },
  {
   "cell_type": "markdown",
   "id": "34b02753",
   "metadata": {},
   "source": [
    "На выходе из модели мы получаем список с numpy массивом, количество массивов равно количеству классов, и порядковый номер массива равен порядковому номеру класса. В нашем датасете 3 класса и их порядок таков: `window`, `empty`, `filled`. Значит первый массив отвечает за класс `windows`, второй за `empty` и третий за `filled`.\n",
    "\n",
    "`[np.array(window), ..., np.array(filled)]`\n",
    "\n",
    "В каждом массиве находятся все обнарушенные детекции и уверенность класса, которые отражает пять чисел, первые 4 координаты бокса и последнее пятое число увереность модели, что детекция принадлежит к определенному классу.\n",
    "\n",
    "`[np.array([12, 9, 7, 9, 0.67], ..., [12, 9, 7, 9, 0.67]), ..., np.array([12, 9, 7, 9, 0.67], ..., [12, 9, 7, 9, 0.67])]`"
   ]
  },
  {
   "cell_type": "markdown",
   "id": "1dde7d84",
   "metadata": {},
   "source": [
    "### Создать датасет"
   ]
  },
  {
   "cell_type": "markdown",
   "id": "ec91c442",
   "metadata": {},
   "source": [
    "Необходимо создать датасет (из размеченных данных) из которого мы сможем извлекать по одномму изображению."
   ]
  },
  {
   "cell_type": "code",
   "execution_count": 90,
   "id": "e822d209",
   "metadata": {},
   "outputs": [],
   "source": [
    "data_path = '../data/for_metric'"
   ]
  },
  {
   "cell_type": "code",
   "execution_count": 263,
   "id": "a422e98a",
   "metadata": {},
   "outputs": [],
   "source": [
    "import glob\n",
    "from PIL import Image\n",
    "from pathlib import Path\n",
    "from torch.utils.data import Dataset\n",
    "\n",
    "from torchvision.transforms import functional as F\n",
    "\n",
    "\n",
    "class ReportDetectionDataset(Dataset):\n",
    "    \n",
    "    def __init__(self, data_path: str, device: str):\n",
    "        \"\"\"\n",
    "        :param path: path to annotated data.\n",
    "        \"\"\"\n",
    "        \n",
    "        if data_path[-1] != '/':\n",
    "            data_path += '/'\n",
    "        \n",
    "        self.anns_path = glob.glob(data_path + '**/*.json')[0]\n",
    "        self.images_path = str(list(Path(data_path).rglob('*.jpg'))[0].parent) + '/'\n",
    "        self.coco = COCO(self.anns_path)\n",
    "        self.n = len(self.coco.imgs)\n",
    "        self.device = device\n",
    "        # соберем словарь id и названия категорий\n",
    "        dicts_cats = self.coco.loadCats(self.coco.getCatIds())\n",
    "        self.id_name_cats = {dict_cat['id']:dict_cat['name'] for dict_cat in dicts_cats}\n",
    "    \n",
    "    def image2tensor(self, image: Image.Image, device: str) -> torch.Tensor:\n",
    "        \"\"\"\n",
    "        Checks if image is valid and moves it to the GPU.\n",
    "        \n",
    "        :param image: PIL.Image\n",
    "        :param device: device to run op on\n",
    "        :return: torch.tensor shape [bs, c, h, w]\n",
    "        \"\"\"\n",
    "        \n",
    "        if isinstance(image, Image.Image):\n",
    "            image = np.array(image)\n",
    "            \n",
    "        if len(image.shape) != 3 or image.shape[2] != 3:\n",
    "            raise Exception(\n",
    "                \"'predict' method takes a 3D image as input \\\n",
    "                of shape (H, W, 3). Instead got {}\".format(\n",
    "                    image.shape\n",
    "                )\n",
    "            )\n",
    "            \n",
    "        return F.to_tensor(image).unsqueeze(0).to(self.device)\n",
    "    \n",
    "    def conversion_bbox(self, coco_bbox: list) -> list:\n",
    "        \"\"\"\n",
    "        Convert bbox from coco dataset format to the desired format.\n",
    "        :from: `[x_topleft, y_topleft, width, height]`\n",
    "        :to: `[x_topleft, y_topleft, x_bottomright, y_bottomright]`\n",
    "        \"\"\"\n",
    "        x_topleft, y_topleft = coco_bbox[:2]\n",
    "        w, h = coco_bbox[2], coco_bbox[3]\n",
    "        x_bottomright = x_topleft + w\n",
    "        y_bottomright = y_topleft + h\n",
    "        return [x_topleft, y_topleft, x_bottomright, y_bottomright]\n",
    "    \n",
    "    def get_anns(self, dicts_anns: dict) -> dict:\n",
    "        boxes, brands = [], []\n",
    "        for dict_ann in dicts_anns:\n",
    "            \n",
    "            coco_bbox = dict_ann['bbox']\n",
    "            bbox = self.conversion_bbox(coco_bbox)\n",
    "            \n",
    "            id_brand = dict_ann['category_id']\n",
    "            brand = self.id_name_cats[id_brand]\n",
    "\n",
    "            boxes.append(bbox)\n",
    "            brands.append(brand)\n",
    "\n",
    "        return {'boxes': np.array(boxes),\n",
    "                'brands': brands}\n",
    "    \n",
    "    def __len__(self):\n",
    "        return self.n\n",
    "    \n",
    "    def __getitem__(self, index):\n",
    "        # т.к. в coco индексирование начинается с 1, то нужно добавить 1 к индексу\n",
    "        index += 1\n",
    "        # получить изображение по индексу\n",
    "        path2img = self.images_path + self.coco.loadImgs(index)[0]['file_name']\n",
    "        image = Image.open(path2img)\n",
    "        ann_img = self.coco.loadImgs(index)\n",
    "        #print(np.array(image).shape)\n",
    "        #print(ann_img)\n",
    "        # получить тензор изображения\n",
    "        tensor_image = self.image2tensor(image, self.device)\n",
    "        # получить аннотации к изображению\n",
    "        id_anns = self.coco.getAnnIds(imgIds=index)\n",
    "        dicts_anns = self.coco.loadAnns(id_anns)\n",
    "        #print(dicts_anns)\n",
    "        # сложить аннотации в вид, который используется в библиотеке logodetection\n",
    "        gt_detections = self.get_anns(dicts_anns)\n",
    "                \n",
    "        return {'path2img': path2img,\n",
    "                'image': np.array(image),\n",
    "               'tensor_image': tensor_image,\n",
    "               'gt_detections': gt_detections}"
   ]
  },
  {
   "cell_type": "code",
   "execution_count": 264,
   "id": "2be62ab5",
   "metadata": {},
   "outputs": [
    {
     "name": "stdout",
     "output_type": "stream",
     "text": [
      "loading annotations into memory...\n",
      "Done (t=0.00s)\n",
      "creating index...\n",
      "index created!\n"
     ]
    }
   ],
   "source": [
    "dataset = ReportDetectionDataset(data_path, 'cuda:3')"
   ]
  },
  {
   "cell_type": "code",
   "execution_count": 265,
   "id": "71e1fb2e",
   "metadata": {
    "collapsed": true,
    "jupyter": {
     "outputs_hidden": true
    }
   },
   "outputs": [
    {
     "data": {
      "text/plain": [
       "{'path2img': '../data/for_metric/images/022.jpg',\n",
       " 'image': array([[[109,  96,  79],\n",
       "         [109,  96,  79],\n",
       "         [109,  96,  79],\n",
       "         ...,\n",
       "         [200, 171, 139],\n",
       "         [201, 172, 140],\n",
       "         [202, 173, 141]],\n",
       " \n",
       "        [[113, 100,  83],\n",
       "         [113, 100,  83],\n",
       "         [113, 100,  83],\n",
       "         ...,\n",
       "         [201, 172, 140],\n",
       "         [202, 173, 141],\n",
       "         [202, 173, 141]],\n",
       " \n",
       "        [[113,  97,  82],\n",
       "         [113,  97,  82],\n",
       "         [112,  96,  81],\n",
       "         ...,\n",
       "         [203, 174, 144],\n",
       "         [203, 174, 144],\n",
       "         [204, 175, 145]],\n",
       " \n",
       "        ...,\n",
       " \n",
       "        [[ 81,  72,  63],\n",
       "         [ 81,  72,  63],\n",
       "         [ 81,  72,  63],\n",
       "         ...,\n",
       "         [ 55,  55,  45],\n",
       "         [ 57,  57,  47],\n",
       "         [ 58,  58,  48]],\n",
       " \n",
       "        [[ 80,  71,  62],\n",
       "         [ 80,  71,  62],\n",
       "         [ 81,  72,  63],\n",
       "         ...,\n",
       "         [ 61,  58,  49],\n",
       "         [ 65,  62,  53],\n",
       "         [ 67,  64,  55]],\n",
       " \n",
       "        [[ 84,  74,  65],\n",
       "         [ 84,  74,  65],\n",
       "         [ 84,  74,  65],\n",
       "         ...,\n",
       "         [ 62,  58,  49],\n",
       "         [ 64,  60,  51],\n",
       "         [ 65,  61,  52]]], dtype=uint8),\n",
       " 'tensor_image': tensor([[[[0.4275, 0.4275, 0.4275,  ..., 0.7843, 0.7882, 0.7922],\n",
       "           [0.4431, 0.4431, 0.4431,  ..., 0.7882, 0.7922, 0.7922],\n",
       "           [0.4431, 0.4431, 0.4392,  ..., 0.7961, 0.7961, 0.8000],\n",
       "           ...,\n",
       "           [0.3176, 0.3176, 0.3176,  ..., 0.2157, 0.2235, 0.2275],\n",
       "           [0.3137, 0.3137, 0.3176,  ..., 0.2392, 0.2549, 0.2627],\n",
       "           [0.3294, 0.3294, 0.3294,  ..., 0.2431, 0.2510, 0.2549]],\n",
       " \n",
       "          [[0.3765, 0.3765, 0.3765,  ..., 0.6706, 0.6745, 0.6784],\n",
       "           [0.3922, 0.3922, 0.3922,  ..., 0.6745, 0.6784, 0.6784],\n",
       "           [0.3804, 0.3804, 0.3765,  ..., 0.6824, 0.6824, 0.6863],\n",
       "           ...,\n",
       "           [0.2824, 0.2824, 0.2824,  ..., 0.2157, 0.2235, 0.2275],\n",
       "           [0.2784, 0.2784, 0.2824,  ..., 0.2275, 0.2431, 0.2510],\n",
       "           [0.2902, 0.2902, 0.2902,  ..., 0.2275, 0.2353, 0.2392]],\n",
       " \n",
       "          [[0.3098, 0.3098, 0.3098,  ..., 0.5451, 0.5490, 0.5529],\n",
       "           [0.3255, 0.3255, 0.3255,  ..., 0.5490, 0.5529, 0.5529],\n",
       "           [0.3216, 0.3216, 0.3176,  ..., 0.5647, 0.5647, 0.5686],\n",
       "           ...,\n",
       "           [0.2471, 0.2471, 0.2471,  ..., 0.1765, 0.1843, 0.1882],\n",
       "           [0.2431, 0.2431, 0.2471,  ..., 0.1922, 0.2078, 0.2157],\n",
       "           [0.2549, 0.2549, 0.2549,  ..., 0.1922, 0.2000, 0.2039]]]],\n",
       "        device='cuda:3'),\n",
       " 'gt_detections': {'boxes': array([[106.68, 190.42, 154.83, 236.26],\n",
       "         [  0.85,  12.73,  50.7 ,  60.2 ],\n",
       "         [302.2 , 105.75, 350.34, 151.59],\n",
       "         [299.42,  60.08, 347.56, 105.92],\n",
       "         [299.97,  15.52, 348.12,  61.36],\n",
       "         [251.51,  59.52, 299.65, 105.36],\n",
       "         [250.95,  13.85, 299.1 ,  59.69],\n",
       "         [198.59,  59.52, 246.74, 105.36],\n",
       "         [195.81,  14.4 , 243.95,  60.24],\n",
       "         [148.46,  57.85, 196.6 , 103.69],\n",
       "         [148.46,  12.73, 196.6 ,  58.57],\n",
       "         [106.13,  13.29, 154.27,  59.13],\n",
       "         [106.13,  57.85, 154.27, 103.69],\n",
       "         [ 54.88, 102.41, 103.02, 148.25],\n",
       "         [ 52.65,  56.74, 100.8 , 102.58],\n",
       "         [ 52.1 ,  13.29, 100.24,  59.13],\n",
       "         [  1.96,  56.74,  50.11, 102.58],\n",
       "         [  4.75, 101.86,  52.89, 147.7 ],\n",
       "         [306.66, 282.33, 354.8 , 328.17],\n",
       "         [306.66, 238.88, 354.8 , 284.72],\n",
       "         [305.54, 193.21, 353.69, 239.05],\n",
       "         [304.43, 148.09, 352.57, 193.93],\n",
       "         [255.41, 281.77, 303.56, 327.61],\n",
       "         [256.53, 237.77, 304.67, 283.61],\n",
       "         [255.97, 193.21, 304.11, 239.05],\n",
       "         [254.85, 147.53, 303.  , 193.37],\n",
       "         [253.18, 102.97, 301.33, 148.81],\n",
       "         [204.72, 280.66, 252.86, 326.5 ],\n",
       "         [205.28, 237.77, 253.42, 283.61],\n",
       "         [206.39, 191.54, 254.54, 237.38],\n",
       "         [205.28, 148.09, 253.42, 193.93],\n",
       "         [206.39, 104.08, 254.54, 149.92],\n",
       "         [151.25, 280.66, 199.39, 326.5 ],\n",
       "         [150.69, 234.98, 198.83, 280.82],\n",
       "         [150.13, 192.09, 198.28, 237.93],\n",
       "         [149.58, 146.97, 197.72, 192.81],\n",
       "         [151.25, 104.08, 199.39, 149.92],\n",
       "         [106.13, 280.66, 154.27, 326.5 ],\n",
       "         [106.68, 235.54, 154.83, 281.38],\n",
       "         [106.13, 145.86, 154.27, 191.7 ],\n",
       "         [105.57, 100.74, 153.71, 146.58],\n",
       "         [ 53.77, 280.66, 101.91, 326.5 ],\n",
       "         [ 53.77, 234.98, 101.91, 280.82],\n",
       "         [ 52.1 , 190.98, 100.24, 236.82],\n",
       "         [ 51.54, 145.86,  99.68, 191.7 ],\n",
       "         [  6.42, 280.1 ,  54.56, 325.94],\n",
       "         [  6.98, 236.66,  55.12, 282.49],\n",
       "         [  6.98, 190.42,  55.12, 236.26],\n",
       "         [  6.96, 145.86,  55.1 , 191.7 ]]),\n",
       "  'brands': ['window',\n",
       "   'empty',\n",
       "   'filled',\n",
       "   'filled',\n",
       "   'filled',\n",
       "   'filled',\n",
       "   'filled',\n",
       "   'filled',\n",
       "   'filled',\n",
       "   'filled',\n",
       "   'filled',\n",
       "   'filled',\n",
       "   'filled',\n",
       "   'filled',\n",
       "   'filled',\n",
       "   'filled',\n",
       "   'filled',\n",
       "   'filled',\n",
       "   'window',\n",
       "   'window',\n",
       "   'window',\n",
       "   'window',\n",
       "   'window',\n",
       "   'window',\n",
       "   'window',\n",
       "   'window',\n",
       "   'window',\n",
       "   'window',\n",
       "   'window',\n",
       "   'window',\n",
       "   'window',\n",
       "   'window',\n",
       "   'window',\n",
       "   'window',\n",
       "   'window',\n",
       "   'window',\n",
       "   'window',\n",
       "   'window',\n",
       "   'window',\n",
       "   'window',\n",
       "   'window',\n",
       "   'window',\n",
       "   'window',\n",
       "   'window',\n",
       "   'window',\n",
       "   'window',\n",
       "   'window',\n",
       "   'window',\n",
       "   'window']}}"
      ]
     },
     "execution_count": 265,
     "metadata": {},
     "output_type": "execute_result"
    }
   ],
   "source": [
    "dataset[2]"
   ]
  },
  {
   "cell_type": "markdown",
   "id": "43427512",
   "metadata": {},
   "source": [
    "### Dataloader"
   ]
  },
  {
   "cell_type": "code",
   "execution_count": 116,
   "id": "d3c57eec",
   "metadata": {},
   "outputs": [],
   "source": [
    "dl = DataLoader(dataset, batch_size=1, shuffle=False, num_workers=0)"
   ]
  },
  {
   "cell_type": "code",
   "execution_count": 117,
   "id": "76f07135",
   "metadata": {
    "collapsed": true,
    "jupyter": {
     "outputs_hidden": true
    }
   },
   "outputs": [
    {
     "data": {
      "text/plain": [
       "{'path2img': ['../data/for_metric/images/007.jpg'],\n",
       " 'image': tensor([[[[205, 186, 169],\n",
       "           [207, 188, 171],\n",
       "           [209, 190, 173],\n",
       "           ...,\n",
       "           [205, 197, 184],\n",
       "           [205, 197, 184],\n",
       "           [205, 197, 184]],\n",
       " \n",
       "          [[205, 186, 169],\n",
       "           [207, 188, 171],\n",
       "           [208, 189, 172],\n",
       "           ...,\n",
       "           [204, 194, 182],\n",
       "           [203, 195, 182],\n",
       "           [204, 194, 182]],\n",
       " \n",
       "          [[203, 186, 168],\n",
       "           [205, 188, 170],\n",
       "           [206, 189, 171],\n",
       "           ...,\n",
       "           [206, 194, 180],\n",
       "           [204, 195, 180],\n",
       "           [206, 194, 180]],\n",
       " \n",
       "          ...,\n",
       " \n",
       "          [[124, 110, 101],\n",
       "           [198, 184, 175],\n",
       "           [206, 192, 183],\n",
       "           ...,\n",
       "           [183, 174, 159],\n",
       "           [183, 174, 159],\n",
       "           [183, 174, 159]],\n",
       " \n",
       "          [[129, 115, 106],\n",
       "           [198, 184, 175],\n",
       "           [202, 188, 179],\n",
       "           ...,\n",
       "           [202, 193, 178],\n",
       "           [202, 193, 178],\n",
       "           [202, 193, 178]],\n",
       " \n",
       "          [[133, 119, 110],\n",
       "           [202, 188, 179],\n",
       "           [204, 190, 181],\n",
       "           ...,\n",
       "           [184, 175, 160],\n",
       "           [184, 175, 160],\n",
       "           [184, 175, 160]]]], dtype=torch.uint8),\n",
       " 'tensor_image': tensor([[[[[0.8039, 0.8118, 0.8196,  ..., 0.8039, 0.8039, 0.8039],\n",
       "            [0.8039, 0.8118, 0.8157,  ..., 0.8000, 0.7961, 0.8000],\n",
       "            [0.7961, 0.8039, 0.8078,  ..., 0.8078, 0.8000, 0.8078],\n",
       "            ...,\n",
       "            [0.4863, 0.7765, 0.8078,  ..., 0.7176, 0.7176, 0.7176],\n",
       "            [0.5059, 0.7765, 0.7922,  ..., 0.7922, 0.7922, 0.7922],\n",
       "            [0.5216, 0.7922, 0.8000,  ..., 0.7216, 0.7216, 0.7216]],\n",
       " \n",
       "           [[0.7294, 0.7373, 0.7451,  ..., 0.7725, 0.7725, 0.7725],\n",
       "            [0.7294, 0.7373, 0.7412,  ..., 0.7608, 0.7647, 0.7608],\n",
       "            [0.7294, 0.7373, 0.7412,  ..., 0.7608, 0.7647, 0.7608],\n",
       "            ...,\n",
       "            [0.4314, 0.7216, 0.7529,  ..., 0.6824, 0.6824, 0.6824],\n",
       "            [0.4510, 0.7216, 0.7373,  ..., 0.7569, 0.7569, 0.7569],\n",
       "            [0.4667, 0.7373, 0.7451,  ..., 0.6863, 0.6863, 0.6863]],\n",
       " \n",
       "           [[0.6627, 0.6706, 0.6784,  ..., 0.7216, 0.7216, 0.7216],\n",
       "            [0.6627, 0.6706, 0.6745,  ..., 0.7137, 0.7137, 0.7137],\n",
       "            [0.6588, 0.6667, 0.6706,  ..., 0.7059, 0.7059, 0.7059],\n",
       "            ...,\n",
       "            [0.3961, 0.6863, 0.7176,  ..., 0.6235, 0.6235, 0.6235],\n",
       "            [0.4157, 0.6863, 0.7020,  ..., 0.6980, 0.6980, 0.6980],\n",
       "            [0.4314, 0.7020, 0.7098,  ..., 0.6275, 0.6275, 0.6275]]]]],\n",
       "        device='cuda:3'),\n",
       " 'gt_detections': {'boxes': tensor([[[119.9900, 157.5200, 167.9500, 206.1300],\n",
       "           [ 13.2000,  12.7900,  62.2300,  64.8800],\n",
       "           [ 16.8000,  63.8000,  62.7600, 111.9000],\n",
       "           [ 16.8000, 109.7600,  62.7600, 157.8600],\n",
       "           [ 14.2400, 157.2600,  61.2000, 204.9000],\n",
       "           [ 13.2300, 204.4800,  61.2000, 253.1000],\n",
       "           [ 13.2400, 251.4900,  61.2100, 300.1100],\n",
       "           [ 63.2900,  14.0000, 111.2600,  62.6100],\n",
       "           [ 62.2700,  62.0100, 110.2400, 110.6200],\n",
       "           [ 61.7600, 110.0200, 109.7300, 158.6300],\n",
       "           [ 63.2900, 158.5400, 111.2600, 207.1500],\n",
       "           [ 62.2700, 206.0400, 110.2400, 254.6500],\n",
       "           [ 62.7800, 253.0300, 110.7500, 301.6400],\n",
       "           [118.9700,  13.4900, 166.9300,  62.1000],\n",
       "           [119.4800,  62.5200, 167.4400, 111.1300],\n",
       "           [119.4800, 110.0200, 167.4400, 158.6300],\n",
       "           [119.9900, 205.0200, 167.9500, 253.6300],\n",
       "           [119.9900, 253.0300, 167.9500, 301.6400],\n",
       "           [172.0800,  11.9500, 219.0000,  65.7000],\n",
       "           [174.1000,  62.5100, 220.0400, 113.7000],\n",
       "           [174.0900, 110.5200, 219.0000, 159.7000],\n",
       "           [173.6100, 157.7400, 218.5200, 206.9300],\n",
       "           [173.6100, 204.7300, 218.5200, 253.9100],\n",
       "           [172.5900, 253.2500, 217.5000, 302.4400],\n",
       "           [222.1300,  13.7100, 267.0400,  62.9000],\n",
       "           [221.1100,  64.7900, 266.0200, 113.9700],\n",
       "           [220.6000, 111.7800, 265.5100, 160.9600],\n",
       "           [221.6200, 158.7600, 266.5300, 207.9500],\n",
       "           [221.1100, 206.3000, 265.5000, 254.9400],\n",
       "           [219.0700, 252.2300, 263.9800, 301.4100],\n",
       "           [267.8500,  15.5200, 312.2400,  64.1600],\n",
       "           [267.3400,  64.5500, 311.7300, 113.1900],\n",
       "           [266.3100, 112.0500, 310.7100, 160.6900],\n",
       "           [267.3400, 159.5500, 311.7300, 208.1900],\n",
       "           [266.3100, 206.0300, 310.7100, 254.6600],\n",
       "           [267.8500, 252.5000, 312.2400, 301.1400]]], dtype=torch.float64),\n",
       "  'brands': [('filled',),\n",
       "   ('filled',),\n",
       "   ('filled',),\n",
       "   ('filled',),\n",
       "   ('filled',),\n",
       "   ('filled',),\n",
       "   ('filled',),\n",
       "   ('filled',),\n",
       "   ('filled',),\n",
       "   ('filled',),\n",
       "   ('filled',),\n",
       "   ('filled',),\n",
       "   ('filled',),\n",
       "   ('filled',),\n",
       "   ('filled',),\n",
       "   ('filled',),\n",
       "   ('filled',),\n",
       "   ('filled',),\n",
       "   ('filled',),\n",
       "   ('filled',),\n",
       "   ('filled',),\n",
       "   ('filled',),\n",
       "   ('filled',),\n",
       "   ('filled',),\n",
       "   ('filled',),\n",
       "   ('filled',),\n",
       "   ('filled',),\n",
       "   ('filled',),\n",
       "   ('filled',),\n",
       "   ('filled',),\n",
       "   ('filled',),\n",
       "   ('filled',),\n",
       "   ('filled',),\n",
       "   ('filled',),\n",
       "   ('filled',),\n",
       "   ('filled',)]}}"
      ]
     },
     "execution_count": 117,
     "metadata": {},
     "output_type": "execute_result"
    }
   ],
   "source": [
    "next(iter(dl))"
   ]
  },
  {
   "cell_type": "markdown",
   "id": "ab8a3c63",
   "metadata": {},
   "source": [
    "### Вспомогательные функции"
   ]
  },
  {
   "cell_type": "code",
   "execution_count": 118,
   "id": "69cf5b4e",
   "metadata": {},
   "outputs": [],
   "source": [
    "import numpy as np\n",
    "\n",
    "\n",
    "def is_intersection(box_gt: list, box_pd: list, pxl: int = 2) -> bool:\n",
    "    \"\"\"\n",
    "    Checks if two bounding boxes intersect.\n",
    "\n",
    "    :type box_gt and box_pd: [x_topleft, y_topleft, x_bottomright, y_bottomright]\n",
    "    :param box_gt and box_pd: The coordinates of the bounding box, top-left and bottom-right.\n",
    "    :param pxl: Padding, in pixels, by how many pixels one rectangle must overlap to be considered overlapping.\n",
    "\n",
    "    :return: True - if the bounding boxes intersect. False - if the bounding boxes do not intersect.\n",
    "    \"\"\"\n",
    "\n",
    "    x_topleft_gt, y_topleft_gt, x_bottomright_gt, y_bottomright_gt = box_gt\n",
    "    x_topleft_pd, y_topleft_pd, x_bottomright_pd, y_bottomright_pd = box_pd\n",
    "\n",
    "    if x_topleft_pd > x_bottomright_gt - pxl or \\\n",
    "        x_topleft_gt > x_bottomright_pd - pxl or \\\n",
    "        y_bottomright_gt < y_topleft_pd - pxl or \\\n",
    "        y_bottomright_pd < y_topleft_gt - pxl:\n",
    "        return False\n",
    "    else:\n",
    "        return True\n",
    "  \n",
    "\n",
    "def iou_metric(box_gt: list, box_pd: list) -> float:\n",
    "    \"\"\"\n",
    "    Сalculate the IoU metric.\n",
    "\n",
    "    :type box_gt and box_pd: [x_topleft, y_topleft, x_bottomright, y_bottomright]\n",
    "    :param box_gt: Bounding box of ground truth. \n",
    "    :param box_pd: Bounding box of prediction.\n",
    "\n",
    "    :return: The meaning of the IoU metric.\n",
    "    \"\"\"\n",
    "\n",
    "    xA = max(box_gt[0], box_pd[0])\n",
    "    yA = max(box_gt[1], box_pd[1])\n",
    "    xB = min(box_gt[2], box_pd[2])\n",
    "    yB = min(box_gt[3], box_pd[3])\n",
    "\n",
    "    intersection_square = abs(xA - xB) * abs(yA - yB)\n",
    "\n",
    "    A_square = abs(box_gt[0] - box_gt[2]) * abs(box_gt[1] - box_gt[3]) \n",
    "    B_square = abs(box_pd[0] - box_pd[2]) * abs(box_pd[1] - box_pd[3])\n",
    "\n",
    "    IoU = intersection_square / (A_square + B_square - intersection_square)\n",
    "\n",
    "    return IoU\n",
    "\n",
    "def get_precision(tp: int, fp: int) -> float:\n",
    "    return round(tp / (tp + fp + 1e-6), 3)\n",
    "\n",
    "\n",
    "def get_recall(tp: int, fn: int) -> float:\n",
    "    return round(tp / (tp + fn + 1e-6), 3)\n",
    "\n",
    "def f1_score(precision: float, recall: float) -> float:\n",
    "    return round(2 * precision * recall / (precision + recall + 1e-10), 3)"
   ]
  },
  {
   "cell_type": "code",
   "execution_count": 319,
   "id": "61696423",
   "metadata": {},
   "outputs": [],
   "source": [
    "def count_errors(gt_detections: dict, pred_detections: dict) -> dict:\n",
    "    \"\"\"\n",
    "    Count all the errors that the model makes.\n",
    "    \"\"\"\n",
    "\n",
    "    tp = 0\n",
    "    fp = 0\n",
    "    fn = 0\n",
    "    \n",
    "    n_wrong_iou = 0\n",
    "    n_correctly_class = 0\n",
    "    n_intersections = 0\n",
    "    for pred_box, pred_brand in zip(pred_detections['boxes'], pred_detections['brands']):\n",
    "        for gt_box, gt_brand in zip(gt_detections['boxes'], gt_detections['brands']):\n",
    "            if is_intersection(pred_box, gt_box):\n",
    "                \n",
    "                iou = iou_metric(gt_box, pred_box)\n",
    "                if iou < 0.5:\n",
    "                    n_wrong_iou += 1\n",
    "                \n",
    "                if iou > 0.5:\n",
    "                    tp += 1\n",
    "                    if pred_brand == gt_brand:\n",
    "                        n_correctly_class += 1\n",
    "                \n",
    "                n_intersections += 1\n",
    "\n",
    "    n_pred = len(pred_detections['boxes'])\n",
    "    n_gt = len(gt_detections['boxes'])\n",
    "    n_no_overlap = abs(n_pred - n_intersections)\n",
    "\n",
    "    fp = n_wrong_iou + n_no_overlap\n",
    "\n",
    "    if n_intersections < n_gt:\n",
    "        fn += abs(n_intersections - n_gt)\n",
    "\n",
    "    return {\n",
    "        'tp': tp,\n",
    "        'fp': fp,\n",
    "        'fn': fn,\n",
    "        'n_pred': n_pred,\n",
    "        'n_gt': n_gt,\n",
    "        'n_intersections': n_intersections,\n",
    "        'n_correctly_class': n_correctly_class,\n",
    "        'n_wrong_iou': n_wrong_iou,\n",
    "        'n_no_overlap': n_no_overlap\n",
    "    }"
   ]
  },
  {
   "cell_type": "markdown",
   "id": "98cf34da",
   "metadata": {},
   "source": [
    "### Модель"
   ]
  },
  {
   "cell_type": "code",
   "execution_count": 122,
   "id": "3abd6a6e",
   "metadata": {},
   "outputs": [],
   "source": [
    "from PIL import Image\n",
    "\n",
    "import mmcv\n",
    "from mmcv import Config\n",
    "from mmdet.apis import inference_detector, init_detector, show_result_pyplot\n",
    "\n",
    "def classification_object(clfobj_weights: str, device: str):\n",
    "    \"\"\"Initialize the trained model.\n",
    "    :param clfobj_weights: path to model weights.\n",
    "    :param device: device on which the model will work.\n",
    "    :return: trained model.\n",
    "    \"\"\"\n",
    "\n",
    "    cfg = Config.fromfile('../mmdetection/configs/faster_rcnn/faster_rcnn_r50_caffe_fpn_mstrain_1x_coco.py')\n",
    "    cfg.model.roi_head.bbox_head.num_classes = 3\n",
    "    model = init_detector(cfg, clfobj_weights, device=device)\n",
    "    model.cfg = cfg\n",
    "    return model"
   ]
  },
  {
   "cell_type": "code",
   "execution_count": 123,
   "id": "f6965366",
   "metadata": {},
   "outputs": [
    {
     "name": "stdout",
     "output_type": "stream",
     "text": [
      "load checkpoint from local path: ../notebooks/tutorial_exps/epoch_8.pth\n"
     ]
    }
   ],
   "source": [
    "model = classification_object(clfobj_weights='../notebooks/tutorial_exps/epoch_8.pth', device='cuda:1')"
   ]
  },
  {
   "cell_type": "code",
   "execution_count": 132,
   "id": "f48ca66f",
   "metadata": {},
   "outputs": [],
   "source": [
    "path2img = next(iter(dl))['path2img'][0]\n",
    "image = mmcv.imread(path2img)"
   ]
  },
  {
   "cell_type": "code",
   "execution_count": 235,
   "id": "aa4dcb6c",
   "metadata": {
    "collapsed": true,
    "jupyter": {
     "outputs_hidden": true
    }
   },
   "outputs": [
    {
     "data": {
      "image/png": "[encoded data removed]",
      "text/plain": [
       "<PIL.JpegImagePlugin.JpegImageFile image mode=RGB size=315x309 at 0x7F38BFA6A1C0>"
      ]
     },
     "execution_count": 235,
     "metadata": {},
     "output_type": "execute_result"
    }
   ],
   "source": [
    "Image.open(path2img)"
   ]
  },
  {
   "cell_type": "code",
   "execution_count": 153,
   "id": "c5f59b4b",
   "metadata": {},
   "outputs": [],
   "source": [
    "results = inference_detector(model, image)"
   ]
  },
  {
   "cell_type": "markdown",
   "id": "093eff6a",
   "metadata": {},
   "source": [
    "### Подготовка gt_detections и pred_detections"
   ]
  },
  {
   "cell_type": "markdown",
   "id": "15b01279",
   "metadata": {},
   "source": [
    "Из всех предсказанных детекций, отобрать те которые больше трешхолда."
   ]
  },
  {
   "cell_type": "code",
   "execution_count": 145,
   "id": "95c22c66",
   "metadata": {},
   "outputs": [],
   "source": [
    "def select(results: list, threshold: float) -> np.array:\n",
    "    new_list = []\n",
    "    for result in results:\n",
    "        condition = result[:, -1] > threshold\n",
    "        new_list.append(result[condition])\n",
    "    return new_list"
   ]
  },
  {
   "cell_type": "code",
   "execution_count": 154,
   "id": "4ccef606",
   "metadata": {},
   "outputs": [],
   "source": [
    "selected = select(results, threshold = 0.3)"
   ]
  },
  {
   "cell_type": "code",
   "execution_count": 155,
   "id": "df715159",
   "metadata": {
    "collapsed": true,
    "jupyter": {
     "outputs_hidden": true
    }
   },
   "outputs": [
    {
     "data": {
      "text/plain": [
       "[array([[2.65350433e+02, 6.60167007e+01, 3.07327484e+02, 1.10477875e+02,\n",
       "         3.88774842e-01],\n",
       "        [1.42946711e+01, 6.18167114e+01, 5.77031975e+01, 1.07395447e+02,\n",
       "         3.88591290e-01],\n",
       "        [1.41583424e+01, 1.54860773e+01, 5.78546143e+01, 6.22842102e+01,\n",
       "         3.83771390e-01],\n",
       "        [1.73297318e+02, 1.56837128e+02, 2.15928452e+02, 2.04173141e+02,\n",
       "         3.79914016e-01],\n",
       "        [1.71656586e+02, 6.27436562e+01, 2.13981796e+02, 1.10726593e+02,\n",
       "         3.77604753e-01],\n",
       "        [1.36353502e+01, 2.50736496e+02, 5.47542191e+01, 2.99055664e+02,\n",
       "         3.51807088e-01],\n",
       "        [2.66644012e+02, 2.48223129e+02, 3.09647095e+02, 3.01433228e+02,\n",
       "         3.41659695e-01],\n",
       "        [2.66201813e+02, 1.58646484e+02, 3.07757660e+02, 2.01459106e+02,\n",
       "         3.40227872e-01],\n",
       "        [2.18044128e+02, 2.50286835e+02, 2.65234955e+02, 2.95817322e+02,\n",
       "         3.35504770e-01],\n",
       "        [1.20802628e+02, 2.04726044e+02, 1.63282730e+02, 2.53297073e+02,\n",
       "         3.33830178e-01],\n",
       "        [6.19445343e+01, 2.02514267e+02, 1.07321129e+02, 2.50613342e+02,\n",
       "         3.31774682e-01],\n",
       "        [6.26891289e+01, 1.46669493e+01, 1.04600487e+02, 5.84491768e+01,\n",
       "         3.28399122e-01],\n",
       "        [1.74385773e+02, 2.02530258e+02, 2.15721039e+02, 2.53468674e+02,\n",
       "         3.24895561e-01],\n",
       "        [6.10690193e+01, 6.05600510e+01, 1.06479675e+02, 1.06414505e+02,\n",
       "         3.18948776e-01],\n",
       "        [2.65294830e+02, 2.04265549e+02, 3.06854248e+02, 2.47065704e+02,\n",
       "         3.13585758e-01],\n",
       "        [2.17333466e+02, 1.54795151e+02, 2.70170898e+02, 2.04029663e+02,\n",
       "         3.05364132e-01],\n",
       "        [1.72565323e+02, 1.34862528e+01, 2.13827042e+02, 6.24793396e+01,\n",
       "         3.04220915e-01],\n",
       "        [2.63954193e+02, 1.84838295e+01, 3.06798889e+02, 6.27869644e+01,\n",
       "         3.02481055e-01],\n",
       "        [2.18513092e+02, 5.97886391e+01, 2.70700378e+02, 1.10520454e+02,\n",
       "         3.01647246e-01]], dtype=float32),\n",
       " array([], shape=(0, 5), dtype=float32),\n",
       " array([[173.07797   , 251.47064   , 216.9542    , 299.44998   ,\n",
       "           0.8976303 ],\n",
       "        [ 62.09505   ,  60.90904   , 110.88367   , 108.55591   ,\n",
       "           0.89752096],\n",
       "        [ 63.062904  , 111.36136   , 109.820984  , 155.16127   ,\n",
       "           0.8974937 ],\n",
       "        [265.46094   , 157.87022   , 309.6556    , 203.87834   ,\n",
       "           0.89746153],\n",
       "        [ 62.633858  , 154.17805   , 108.947     , 204.8825    ,\n",
       "           0.8960632 ],\n",
       "        [265.56808   ,  64.00572   , 309.96613   , 112.47687   ,\n",
       "           0.8913305 ],\n",
       "        [265.05832   , 250.55698   , 310.5346    , 300.1252    ,\n",
       "           0.8880877 ],\n",
       "        [ 63.615326  ,  17.358173  , 111.42528   ,  57.40866   ,\n",
       "           0.88512087],\n",
       "        [121.96334   , 253.59576   , 166.68733   , 298.3035    ,\n",
       "           0.88076997],\n",
       "        [265.26706   ,  18.66471   , 309.6113    ,  65.688774  ,\n",
       "           0.8807115 ],\n",
       "        [265.44427   , 206.26811   , 309.8255    , 247.46877   ,\n",
       "           0.8800278 ],\n",
       "        [ 62.206745  , 251.14366   , 109.96599   , 300.33145   ,\n",
       "           0.8789837 ],\n",
       "        [ 16.812986  , 155.91684   ,  60.838284  , 204.8652    ,\n",
       "           0.8788022 ],\n",
       "        [172.76524   , 203.34811   , 217.59973   , 253.92805   ,\n",
       "           0.8780059 ],\n",
       "        [ 16.160408  , 250.18161   ,  60.10961   , 299.54572   ,\n",
       "           0.8773197 ],\n",
       "        [123.65697   , 202.88055   , 164.33232   , 254.36446   ,\n",
       "           0.8758732 ],\n",
       "        [172.7225    , 155.55336   , 216.76117   , 207.02916   ,\n",
       "           0.8706485 ],\n",
       "        [265.28577   , 111.09891   , 309.5907    , 157.64001   ,\n",
       "           0.8584134 ],\n",
       "        [120.943146  , 110.08785   , 164.77548   , 156.3403    ,\n",
       "           0.85246044],\n",
       "        [ 16.76128   , 109.13413   ,  60.16656   , 156.90094   ,\n",
       "           0.84964937],\n",
       "        [172.38765   , 111.03033   , 219.1222    , 156.65274   ,\n",
       "           0.83193207],\n",
       "        [121.752045  , 155.43956   , 168.88693   , 209.02536   ,\n",
       "           0.8299354 ],\n",
       "        [ 61.359684  , 204.4327    , 109.85039   , 253.5849    ,\n",
       "           0.82771486],\n",
       "        [ 15.869161  ,  14.633176  ,  60.56468   ,  61.447773  ,\n",
       "           0.8047825 ],\n",
       "        [121.84618   ,  62.607357  , 170.51546   , 110.56112   ,\n",
       "           0.7946807 ],\n",
       "        [ 16.094687  , 205.17816   ,  60.226135  , 253.43207   ,\n",
       "           0.79317033],\n",
       "        [ 16.345945  ,  62.520283  ,  60.71165   , 110.23312   ,\n",
       "           0.7861065 ],\n",
       "        [172.58234   ,  62.116554  , 216.3357    , 112.04498   ,\n",
       "           0.785006  ],\n",
       "        [219.47305   , 155.22804   , 271.26196   , 208.02316   ,\n",
       "           0.7832623 ],\n",
       "        [219.1467    , 107.23623   , 269.07037   , 157.8893    ,\n",
       "           0.7817801 ],\n",
       "        [219.38795   , 250.31004   , 267.74393   , 295.08157   ,\n",
       "           0.7737192 ],\n",
       "        [123.97758   ,  11.763251  , 171.35493   ,  62.17531   ,\n",
       "           0.77357394],\n",
       "        [218.2366    , 203.39851   , 267.4684    , 251.81146   ,\n",
       "           0.76616204],\n",
       "        [173.6837    ,  15.611101  , 218.13828   ,  63.39465   ,\n",
       "           0.7636117 ],\n",
       "        [222.2731    ,  19.95817   , 256.8854    ,  64.33097   ,\n",
       "           0.7431628 ],\n",
       "        [221.11241   ,  62.355556  , 269.17096   , 113.368355  ,\n",
       "           0.67904234]], dtype=float32)]"
      ]
     },
     "execution_count": 155,
     "metadata": {},
     "output_type": "execute_result"
    }
   ],
   "source": [
    "selected"
   ]
  },
  {
   "cell_type": "markdown",
   "id": "a3b82499",
   "metadata": {},
   "source": [
    "Сделать словарь, где по ключу `boxes` будут доступны боксы, а по ключу `brands` название предсказанного класса."
   ]
  },
  {
   "cell_type": "markdown",
   "id": "a0dbf09f",
   "metadata": {},
   "source": [
    "Создадим словарь `id:name_class`, чтобы получить название классов."
   ]
  },
  {
   "cell_type": "code",
   "execution_count": 161,
   "id": "897f0913",
   "metadata": {},
   "outputs": [],
   "source": [
    "id2name_class = {\n",
    "    0: 'window',\n",
    "    1: 'empty',\n",
    "    2: 'filled'\n",
    "}"
   ]
  },
  {
   "cell_type": "code",
   "execution_count": 289,
   "id": "a9ccb354",
   "metadata": {},
   "outputs": [],
   "source": [
    "def create_dict_from_predict(selected: np.array, id2name_class: dict) -> dict:\n",
    "    for i, s in enumerate(selected):\n",
    "        if i == 0:\n",
    "            concatenated_bbox = s[:, :4]\n",
    "            concatenated_brands = np.array([id2name_class[i]] * s[:, :4].shape[0])[:, np.newaxis]\n",
    "        else:\n",
    "            concatenated_bbox = np.vstack((concatenated_bbox, s[:, :4]))\n",
    "            brands = np.array([id2name_class[i]] * s[:, :4].shape[0])[:, np.newaxis]\n",
    "            concatenated_brands = np.vstack((concatenated_brands, brands))\n",
    "    return {\n",
    "        'boxes': concatenated_bbox,\n",
    "        'brands': concatenated_brands.squeeze()\n",
    "    }"
   ]
  },
  {
   "cell_type": "code",
   "execution_count": 290,
   "id": "5591c713",
   "metadata": {},
   "outputs": [
    {
     "data": {
      "text/plain": [
       "dict_keys(['boxes', 'brands'])"
      ]
     },
     "execution_count": 290,
     "metadata": {},
     "output_type": "execute_result"
    }
   ],
   "source": [
    "pred_detections = create_dict_from_predict(selected, id2name_class)\n",
    "pred_detections.keys()"
   ]
  },
  {
   "cell_type": "code",
   "execution_count": 291,
   "id": "6d538f6b",
   "metadata": {},
   "outputs": [],
   "source": [
    "def create_dict_from_gt(example: dict) -> dict:\n",
    "    return {\n",
    "        'boxes': example['gt_detections']['boxes'].squeeze().detach().cpu().numpy(),\n",
    "        'brands': np.array([word[0] for word in example['gt_detections']['brands']])\n",
    "    }"
   ]
  },
  {
   "cell_type": "code",
   "execution_count": 292,
   "id": "3d7c9620",
   "metadata": {},
   "outputs": [],
   "source": [
    "example = next(iter(dl))\n",
    "gt_detections = create_dict_from_gt(example)"
   ]
  },
  {
   "cell_type": "code",
   "execution_count": 293,
   "id": "c7784496",
   "metadata": {
    "collapsed": true,
    "jupyter": {
     "outputs_hidden": true
    }
   },
   "outputs": [
    {
     "data": {
      "text/plain": [
       "{'boxes': array([[119.99, 157.52, 167.95, 206.13],\n",
       "        [ 13.2 ,  12.79,  62.23,  64.88],\n",
       "        [ 16.8 ,  63.8 ,  62.76, 111.9 ],\n",
       "        [ 16.8 , 109.76,  62.76, 157.86],\n",
       "        [ 14.24, 157.26,  61.2 , 204.9 ],\n",
       "        [ 13.23, 204.48,  61.2 , 253.1 ],\n",
       "        [ 13.24, 251.49,  61.21, 300.11],\n",
       "        [ 63.29,  14.  , 111.26,  62.61],\n",
       "        [ 62.27,  62.01, 110.24, 110.62],\n",
       "        [ 61.76, 110.02, 109.73, 158.63],\n",
       "        [ 63.29, 158.54, 111.26, 207.15],\n",
       "        [ 62.27, 206.04, 110.24, 254.65],\n",
       "        [ 62.78, 253.03, 110.75, 301.64],\n",
       "        [118.97,  13.49, 166.93,  62.1 ],\n",
       "        [119.48,  62.52, 167.44, 111.13],\n",
       "        [119.48, 110.02, 167.44, 158.63],\n",
       "        [119.99, 205.02, 167.95, 253.63],\n",
       "        [119.99, 253.03, 167.95, 301.64],\n",
       "        [172.08,  11.95, 219.  ,  65.7 ],\n",
       "        [174.1 ,  62.51, 220.04, 113.7 ],\n",
       "        [174.09, 110.52, 219.  , 159.7 ],\n",
       "        [173.61, 157.74, 218.52, 206.93],\n",
       "        [173.61, 204.73, 218.52, 253.91],\n",
       "        [172.59, 253.25, 217.5 , 302.44],\n",
       "        [222.13,  13.71, 267.04,  62.9 ],\n",
       "        [221.11,  64.79, 266.02, 113.97],\n",
       "        [220.6 , 111.78, 265.51, 160.96],\n",
       "        [221.62, 158.76, 266.53, 207.95],\n",
       "        [221.11, 206.3 , 265.5 , 254.94],\n",
       "        [219.07, 252.23, 263.98, 301.41],\n",
       "        [267.85,  15.52, 312.24,  64.16],\n",
       "        [267.34,  64.55, 311.73, 113.19],\n",
       "        [266.31, 112.05, 310.71, 160.69],\n",
       "        [267.34, 159.55, 311.73, 208.19],\n",
       "        [266.31, 206.03, 310.71, 254.66],\n",
       "        [267.85, 252.5 , 312.24, 301.14]]),\n",
       " 'brands': array(['filled', 'filled', 'filled', 'filled', 'filled', 'filled',\n",
       "        'filled', 'filled', 'filled', 'filled', 'filled', 'filled',\n",
       "        'filled', 'filled', 'filled', 'filled', 'filled', 'filled',\n",
       "        'filled', 'filled', 'filled', 'filled', 'filled', 'filled',\n",
       "        'filled', 'filled', 'filled', 'filled', 'filled', 'filled',\n",
       "        'filled', 'filled', 'filled', 'filled', 'filled', 'filled'],\n",
       "       dtype='<U6')}"
      ]
     },
     "execution_count": 293,
     "metadata": {},
     "output_type": "execute_result"
    }
   ],
   "source": [
    "gt_detections"
   ]
  },
  {
   "cell_type": "code",
   "execution_count": 332,
   "id": "48732003",
   "metadata": {},
   "outputs": [
    {
     "data": {
      "text/plain": [
       "0.7853658536585366"
      ]
     },
     "execution_count": 332,
     "metadata": {},
     "output_type": "execute_result"
    }
   ],
   "source": [
    "all_gt = 0\n",
    "all_correct_pred = 0\n",
    "\n",
    "for example in dl:\n",
    "    image = mmcv.imread(example['path2img'][0])\n",
    "    \n",
    "    results = inference_detector(model, image)\n",
    "    selected = select(results, threshold = 0.5)\n",
    "     \n",
    "    pred_detections = create_dict_from_predict(selected, id2name_class)\n",
    "    gt_detections = create_dict_from_gt(example)\n",
    "    \n",
    "    errors = count_errors(gt_detections, pred_detections)\n",
    "    all_gt += errors['n_gt']\n",
    "    all_correct_pred += errors['n_correctly_class']\n",
    "\n",
    "accuracy = all_correct_pred / all_gt\n",
    "\n",
    "accuracy"
   ]
  },
  {
   "cell_type": "code",
   "execution_count": null,
   "id": "0621f1d6",
   "metadata": {},
   "outputs": [],
   "source": []
  },
  {
   "cell_type": "code",
   "execution_count": null,
   "id": "bcacb213",
   "metadata": {},
   "outputs": [],
   "source": []
  }
 ],
 "metadata": {
  "kernelspec": {
   "display_name": "samolet",
   "language": "python",
   "name": "samolet"
  },
  "language_info": {
   "codemirror_mode": {
    "name": "ipython",
    "version": 3
   },
   "file_extension": ".py",
   "mimetype": "text/x-python",
   "name": "python",
   "nbconvert_exporter": "python",
   "pygments_lexer": "ipython3",
   "version": "3.8.10"
  }
 },
 "nbformat": 4,
 "nbformat_minor": 5
}
